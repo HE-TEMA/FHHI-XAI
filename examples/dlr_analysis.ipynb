{
 "cells": [
  {
   "cell_type": "code",
   "execution_count": 1,
   "metadata": {},
   "outputs": [],
   "source": [
    "%load_ext autoreload\n",
    "%autoreload 2"
   ]
  },
  {
   "cell_type": "code",
   "execution_count": 4,
   "metadata": {},
   "outputs": [
    {
     "name": "stderr",
     "output_type": "stream",
     "text": [
      "/Users/kortukov/miniconda3/envs/tema/lib/python3.8/site-packages/tqdm/auto.py:21: TqdmWarning: IProgress not found. Please update jupyter and ipywidgets. See https://ipywidgets.readthedocs.io/en/stable/user_install.html\n",
      "  from .autonotebook import tqdm as notebook_tqdm\n"
     ]
    },
    {
     "name": "stdout",
     "output_type": "stream",
     "text": [
      "ADDING vgg\n",
      "ADDING mobilenet_v2\n",
      "ADDING efficient_net-b3\n",
      "ADDING mobilenet_v3\n",
      "ADDING SSDBoxPredictor\n",
      "ADDING SSDLiteBoxPredictor\n",
      "ADDING SSDBoxHead\n"
     ]
    }
   ],
   "source": [
    "import torch\n",
    "import numpy as np\n",
    "import torchvision.transforms as transforms\n",
    "import matplotlib.pyplot as plt\n",
    "%matplotlib inline\n",
    "\n",
    "# Add the parent directory to the Python path - bad practice, but it's just for the example\n",
    "import sys\n",
    "sys.path.append(\"..\")\n",
    "\n",
    "from src.glocal_analysis import run_analysis \n",
    "from src.datasets.flood_dataset import FloodDataset\n",
    "from src.datasets.DLR_dataset import DatasetDLR\n",
    "from src.plot_crp_explanations import plot_explanations, plot_one_image_explanation\n",
    "from src.minio_client import MinIOClient\n",
    "from LCRP.models import get_model "
   ]
  },
  {
   "cell_type": "code",
   "execution_count": 5,
   "metadata": {},
   "outputs": [],
   "source": [
    "device = \"cuda\" if torch.cuda.is_available() else \"cpu\""
   ]
  },
  {
   "cell_type": "code",
   "execution_count": 6,
   "metadata": {},
   "outputs": [
    {
     "data": {
      "text/plain": [
       "'cpu'"
      ]
     },
     "execution_count": 6,
     "metadata": {},
     "output_type": "execute_result"
    }
   ],
   "source": [
    "device"
   ]
  },
  {
   "cell_type": "code",
   "execution_count": 7,
   "metadata": {},
   "outputs": [
    {
     "name": "stdout",
     "output_type": "stream",
     "text": [
      "Loaded checkpoint ../models/model_s2burnt_modified.pt\n"
     ]
    }
   ],
   "source": [
    "model = get_model(model_name=\"unet\", device=device, classes=1, ckpt_path=\"../models/model_s2burnt_modified.pt\", in_channels=4, encoder_name=\"resnet50\")"
   ]
  },
  {
   "cell_type": "code",
   "execution_count": 7,
   "metadata": {},
   "outputs": [
    {
     "name": "stdout",
     "output_type": "stream",
     "text": [
      "\u001b[34mS2A_MSIL2A_20210718T103031_R108_T31UGS_20210719T012705\u001b[m\u001b[m\n",
      "\u001b[34mS2A_MSIL2A_20210721T104031_R008_T31UGS_20210721T214914\u001b[m\u001b[m\n"
     ]
    }
   ],
   "source": [
    "!ls ../../DLR_data/dlr_germany/"
   ]
  },
  {
   "cell_type": "code",
   "execution_count": 17,
   "metadata": {},
   "outputs": [],
   "source": [
    "dlr_germany_image1 = \"../../DLR_data/dlr_germany/S2A_MSIL2A_20210718T103031_R108_T31UGS_20210719T012705\" \n",
    "dlr_germany_image2 = \"../../DLR_data/dlr_germany/S2A_MSIL2A_20210721T104031_R008_T31UGS_20210721T214914\""
   ]
  },
  {
   "cell_type": "code",
   "execution_count": 18,
   "metadata": {},
   "outputs": [],
   "source": [
    "img_dir = dlr_germany_image1"
   ]
  },
  {
   "cell_type": "code",
   "execution_count": 19,
   "metadata": {},
   "outputs": [
    {
     "name": "stderr",
     "output_type": "stream",
     "text": [
      "Loading images: 100%|██████████| 1/1 [00:00<00:00, 15.88it/s]\n"
     ]
    }
   ],
   "source": [
    "dataset = DatasetDLR(\n",
    "    img_dir=img_dir,\n",
    "    mask_dir=None,\n",
    "    normalize_means_stds=[\n",
    "        [0.1161, 0.1065, 0.1036, 0.2059],  # Means\n",
    "        [0.0556, 0.0570, 0.0772, 0.1033]   # Stds\n",
    "    ]\n",
    ")"
   ]
  },
  {
   "cell_type": "code",
   "execution_count": 20,
   "metadata": {},
   "outputs": [
    {
     "data": {
      "text/plain": [
       "(48, 256, 256, 4)"
      ]
     },
     "execution_count": 20,
     "metadata": {},
     "output_type": "execute_result"
    }
   ],
   "source": [
    "dataset.img_arr.shape"
   ]
  },
  {
   "cell_type": "code",
   "execution_count": null,
   "metadata": {},
   "outputs": [],
   "source": []
  },
  {
   "cell_type": "code",
   "execution_count": null,
   "metadata": {},
   "outputs": [],
   "source": []
  },
  {
   "cell_type": "code",
   "execution_count": null,
   "metadata": {},
   "outputs": [],
   "source": []
  },
  {
   "cell_type": "code",
   "execution_count": null,
   "metadata": {},
   "outputs": [],
   "source": []
  }
 ],
 "metadata": {
  "kernelspec": {
   "display_name": "tema",
   "language": "python",
   "name": "python3"
  },
  "language_info": {
   "codemirror_mode": {
    "name": "ipython",
    "version": 3
   },
   "file_extension": ".py",
   "mimetype": "text/x-python",
   "name": "python",
   "nbconvert_exporter": "python",
   "pygments_lexer": "ipython3",
   "version": "3.8.18"
  }
 },
 "nbformat": 4,
 "nbformat_minor": 2
}
